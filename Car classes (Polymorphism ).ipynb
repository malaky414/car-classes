{
 "cells": [
  {
   "cell_type": "code",
   "execution_count": 5,
   "id": "4c68f437",
   "metadata": {},
   "outputs": [
    {
     "name": "stdout",
     "output_type": "stream",
     "text": [
      "the car is starting....\n",
      "the electric car is starting silently....\n"
     ]
    }
   ],
   "source": [
    "class Car:\n",
    "    def __init__(self,make,model,year):\n",
    "        self.make=make\n",
    "        self.model=model\n",
    "        self.year= year\n",
    "    def start(self):\n",
    "        print(\"the car is starting....\")\n",
    "class ElectricCar(Car):\n",
    "    def start(self):\n",
    "        print(\"the electric car is starting silently....\")\n",
    "my_car = Car(\"Toyota\",\"Corolla\",2022)\n",
    "my_electric_car = ElectricCar(\"Tesla\",\"Model 5\",2023)\n",
    "my_car.start()\n",
    "my_electric_car.start()"
   ]
  },
  {
   "cell_type": "code",
   "execution_count": null,
   "id": "7f2662b7",
   "metadata": {},
   "outputs": [],
   "source": []
  }
 ],
 "metadata": {
  "kernelspec": {
   "display_name": "Python 3 (ipykernel)",
   "language": "python",
   "name": "python3"
  },
  "language_info": {
   "codemirror_mode": {
    "name": "ipython",
    "version": 3
   },
   "file_extension": ".py",
   "mimetype": "text/x-python",
   "name": "python",
   "nbconvert_exporter": "python",
   "pygments_lexer": "ipython3",
   "version": "3.10.9"
  }
 },
 "nbformat": 4,
 "nbformat_minor": 5
}
